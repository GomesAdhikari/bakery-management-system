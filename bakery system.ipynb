{
 "cells": [
  {
   "cell_type": "code",
   "execution_count": 7,
   "id": "9663d639-4ee1-409d-99a4-d23affa90a38",
   "metadata": {},
   "outputs": [
    {
     "name": "stdout",
     "output_type": "stream",
     "text": [
      "\n",
      "Welcome to ABC Bakery!\n",
      "\n",
      "1. Make an Order.\n",
      "2. Mark Delivered.\n",
      "3. Edit Details.\n",
      "4. Delete order\n",
      "5. View all costumers\n",
      "6. Export to excel\n",
      "7. Quit.\n"
     ]
    },
    {
     "name": "stdin",
     "output_type": "stream",
     "text": [
      "Enter your choice:  1\n",
      "Enter the name of the costumer:  gautam\n",
      "Enter costumer number:  1111\n",
      "ENter the address:  1111\n",
      "Enter the cost:  1111\n"
     ]
    },
    {
     "name": "stdout",
     "output_type": "stream",
     "text": [
      "\n",
      "Welcome to ABC Bakery!\n",
      "\n",
      "1. Make an Order.\n",
      "2. Mark Delivered.\n",
      "3. Edit Details.\n",
      "4. Delete order\n",
      "5. View all costumers\n",
      "6. Export to excel\n",
      "7. Quit.\n"
     ]
    },
    {
     "name": "stdin",
     "output_type": "stream",
     "text": [
      "Enter your choice:  5\n"
     ]
    },
    {
     "name": "stdout",
     "output_type": "stream",
     "text": [
      "name - gautam  contact - 1111 address - 1111 cost - 1111 status - Not Delivered\n",
      "\n",
      "Welcome to ABC Bakery!\n",
      "\n",
      "1. Make an Order.\n",
      "2. Mark Delivered.\n",
      "3. Edit Details.\n",
      "4. Delete order\n",
      "5. View all costumers\n",
      "6. Export to excel\n",
      "7. Quit.\n"
     ]
    },
    {
     "name": "stdin",
     "output_type": "stream",
     "text": [
      "Enter your choice:  ewfw\n"
     ]
    },
    {
     "ename": "ValueError",
     "evalue": "invalid literal for int() with base 10: 'ewfw'",
     "output_type": "error",
     "traceback": [
      "\u001b[1;31m---------------------------------------------------------------------------\u001b[0m",
      "\u001b[1;31mValueError\u001b[0m                                Traceback (most recent call last)",
      "Cell \u001b[1;32mIn[7], line 26\u001b[0m\n\u001b[0;32m     15\u001b[0m \u001b[38;5;28;01mwhile\u001b[39;00m \u001b[38;5;28;01mTrue\u001b[39;00m:\n\u001b[0;32m     16\u001b[0m     \u001b[38;5;28mprint\u001b[39m(\u001b[38;5;124m'''\u001b[39m\n\u001b[0;32m     17\u001b[0m \u001b[38;5;124mWelcome to ABC Bakery!\u001b[39m\n\u001b[0;32m     18\u001b[0m \n\u001b[1;32m   (...)\u001b[0m\n\u001b[0;32m     24\u001b[0m \u001b[38;5;124m6. Export to excel\u001b[39m\n\u001b[0;32m     25\u001b[0m \u001b[38;5;124m7. Quit.\u001b[39m\u001b[38;5;124m'''\u001b[39m)\n\u001b[1;32m---> 26\u001b[0m     choice \u001b[38;5;241m=\u001b[39m \u001b[38;5;28mint\u001b[39m(\u001b[38;5;28minput\u001b[39m(\u001b[38;5;124m'\u001b[39m\u001b[38;5;124mEnter your choice: \u001b[39m\u001b[38;5;124m'\u001b[39m))\n\u001b[0;32m     27\u001b[0m     \u001b[38;5;28;01mif\u001b[39;00m choice\u001b[38;5;241m==\u001b[39m\u001b[38;5;241m1\u001b[39m:\n\u001b[0;32m     28\u001b[0m         name_ \u001b[38;5;241m=\u001b[39m \u001b[38;5;28minput\u001b[39m(\u001b[38;5;124m'\u001b[39m\u001b[38;5;124mEnter the name of the costumer: \u001b[39m\u001b[38;5;124m'\u001b[39m)\n",
      "\u001b[1;31mValueError\u001b[0m: invalid literal for int() with base 10: 'ewfw'"
     ]
    }
   ],
   "source": [
    "import pandas as pd\n",
    "import numpy as np\n",
    "people = []\n",
    "class bakery:\n",
    "    def __init__(self,name,contact,address,cost):\n",
    "        self.name = name\n",
    "        self.contact = contact\n",
    "        self.address = address\n",
    "        self.cost = cost\n",
    "        self.status = 'Not Delivered'\n",
    "        \n",
    "    def mark_completed(self):\n",
    "        self.status = 'Delivered'   \n",
    "\n",
    "while True:\n",
    "    print('''\n",
    "Welcome to ABC Bakery!\n",
    "\n",
    "1. Make an Order.\n",
    "2. Mark Delivered.\n",
    "3. Edit Details.\n",
    "4. Delete order\n",
    "5. View all costumers\n",
    "6. Export to excel\n",
    "7. Quit.''')\n",
    "    choice = int(input('Enter your choice: '))\n",
    "    if choice==1:\n",
    "        name_ = input('Enter the name of the costumer: ')\n",
    "        contact_ = input('Enter costumer number: ')\n",
    "        address_ = input('ENter the address: ')\n",
    "        cost_ = input('Enter the cost: ')\n",
    "        new_costum = bakery(name_,contact_,address_,cost_)\n",
    "        people.append(new_costum)\n",
    "    elif choice ==2:\n",
    "        order = input('Enter costumer name: ')\n",
    "        for i in people:\n",
    "            if i.name == order:\n",
    "                i.mark_completed()\n",
    "                print('Marked Delivered.')\n",
    "    elif choice == 3:\n",
    "        name = input('Enter the name of costumer: ')\n",
    "        for i in people:\n",
    "            if i.name == name:\n",
    "                print('''\n",
    "choose option:- \n",
    "1. Edit number\n",
    "2. Edit address\n",
    "3. Edit name\n",
    "4. Edit cost\n",
    "''')\n",
    "                choose = int(input('Enter your choice: '))\n",
    "                if choose ==1:\n",
    "                    new_number = input('Enter new number: ')\n",
    "                    i.contact = new_number\n",
    "                elif choose ==2:\n",
    "                    new_address = input('Enter new address: ')\n",
    "                    i.address = new_address\n",
    "                elif choose ==3:\n",
    "                    new_name = input('Enter new name: ')\n",
    "                    i.name = new_name\n",
    "                elif choose ==4:\n",
    "                    new_cost = input('Enter the new cost: ')\n",
    "                    i.cost = new_cost\n",
    "            else:\n",
    "                continue\n",
    "    elif choice == 4:\n",
    "        for i in people:\n",
    "            name_1 = input('Enter the name of costumer: ')\n",
    "            if i.name == name_1:\n",
    "                people.remove(i)\n",
    "            else:\n",
    "                print('no such costumer!')\n",
    "    elif choice == 5:\n",
    "        for i in people:\n",
    "            print(f'name - {i.name}  contact - {i.contact} address - {i.address} cost - {i.cost} status - {i.status}')\n",
    "    elif choice == 6:\n",
    "        name = [i.name for i in people]\n",
    "        contact = [i.contact for i in people]\n",
    "        address = [i.address for i in people]\n",
    "        status = [i.status for i in people]\n",
    "        cost = [i.cost for i in people]\n",
    "    \n",
    "        consumers = {'name':name,'address':address,'contact':contact,'status':status,'cost':cost}\n",
    "        df = pd.DataFrame(consumers)\n",
    "        df.to_csv('bakery.csv')\n",
    "    elif choice == 7:\n",
    "        break\n",
    "    else:\n",
    "        print('NO such option.')\n"
   ]
  },
  {
   "cell_type": "code",
   "execution_count": 28,
   "id": "32c368c1-803a-4069-97b2-1bef98d6eba8",
   "metadata": {},
   "outputs": [
    {
     "data": {
      "text/html": [
       "<div>\n",
       "<style scoped>\n",
       "    .dataframe tbody tr th:only-of-type {\n",
       "        vertical-align: middle;\n",
       "    }\n",
       "\n",
       "    .dataframe tbody tr th {\n",
       "        vertical-align: top;\n",
       "    }\n",
       "\n",
       "    .dataframe thead th {\n",
       "        text-align: right;\n",
       "    }\n",
       "</style>\n",
       "<table border=\"1\" class=\"dataframe\">\n",
       "  <thead>\n",
       "    <tr style=\"text-align: right;\">\n",
       "      <th></th>\n",
       "      <th>name</th>\n",
       "      <th>address</th>\n",
       "      <th>contact</th>\n",
       "      <th>status</th>\n",
       "    </tr>\n",
       "  </thead>\n",
       "  <tbody>\n",
       "    <tr>\n",
       "      <th>0</th>\n",
       "      <td>Gautam</td>\n",
       "      <td>pp1</td>\n",
       "      <td>9528203079</td>\n",
       "      <td>Not Delivered</td>\n",
       "    </tr>\n",
       "    <tr>\n",
       "      <th>1</th>\n",
       "      <td>Rahul</td>\n",
       "      <td>pp2</td>\n",
       "      <td>8077603187</td>\n",
       "      <td>Delivered</td>\n",
       "    </tr>\n",
       "    <tr>\n",
       "      <th>2</th>\n",
       "      <td>soma</td>\n",
       "      <td>pp3</td>\n",
       "      <td>9314529390</td>\n",
       "      <td>Not Delivered</td>\n",
       "    </tr>\n",
       "  </tbody>\n",
       "</table>\n",
       "</div>"
      ],
      "text/plain": [
       "     name address     contact         status\n",
       "0  Gautam     pp1  9528203079  Not Delivered\n",
       "1   Rahul     pp2  8077603187      Delivered\n",
       "2    soma     pp3  9314529390  Not Delivered"
      ]
     },
     "execution_count": 28,
     "metadata": {},
     "output_type": "execute_result"
    }
   ],
   "source": [
    "df.head()"
   ]
  },
  {
   "cell_type": "code",
   "execution_count": 1,
   "id": "c9c69bdb-7538-4aa5-b07a-59622b786598",
   "metadata": {},
   "outputs": [],
   "source": [
    "import numpy as np\n",
    "class arr:\n",
    "    def __init__(self,name,age):\n",
    "        self.name = name\n",
    "        self.age = age\n",
    "z = arr('Gautam',12)\n",
    "a = np.array([z])"
   ]
  },
  {
   "cell_type": "code",
   "execution_count": 2,
   "id": "ddd24ecd-0515-4a10-bc7f-910e61e6eb2a",
   "metadata": {},
   "outputs": [
    {
     "name": "stdout",
     "output_type": "stream",
     "text": [
      "[<__main__.arr object at 0x00000221CC579B10>]\n"
     ]
    }
   ],
   "source": [
    "for i in a:\n",
    "    print(a)"
   ]
  },
  {
   "cell_type": "code",
   "execution_count": null,
   "id": "fe82d39d-39f6-402e-80a0-5be425dec0f8",
   "metadata": {},
   "outputs": [
    {
     "name": "stdout",
     "output_type": "stream",
     "text": [
      "\n",
      "Welcome to ABC Bakery!\n",
      "\n",
      "1. Make an Order.\n",
      "2. Mark Delivered.\n",
      "3. Edit Details.\n",
      "4. Delete order\n",
      "5. View all costumers\n",
      "6. Export to excel\n",
      "7. Quit.\n"
     ]
    },
    {
     "name": "stdin",
     "output_type": "stream",
     "text": [
      "Enter your choice:  1\n",
      "Enter the name of the costumer:  gautam\n",
      "Enter costumer number:  111\n",
      "ENter the address:  11\n",
      "Enter the cost:  11\n"
     ]
    },
    {
     "name": "stdout",
     "output_type": "stream",
     "text": [
      "\n",
      "Welcome to ABC Bakery!\n",
      "\n",
      "1. Make an Order.\n",
      "2. Mark Delivered.\n",
      "3. Edit Details.\n",
      "4. Delete order\n",
      "5. View all costumers\n",
      "6. Export to excel\n",
      "7. Quit.\n"
     ]
    },
    {
     "name": "stdin",
     "output_type": "stream",
     "text": [
      "Enter your choice:  5\n"
     ]
    },
    {
     "name": "stdout",
     "output_type": "stream",
     "text": [
      "\n",
      "Welcome to ABC Bakery!\n",
      "\n",
      "1. Make an Order.\n",
      "2. Mark Delivered.\n",
      "3. Edit Details.\n",
      "4. Delete order\n",
      "5. View all costumers\n",
      "6. Export to excel\n",
      "7. Quit.\n"
     ]
    },
    {
     "name": "stdin",
     "output_type": "stream",
     "text": [
      "Enter your choice:  1\n",
      "Enter the name of the costumer:  jabd\n",
      "Enter costumer number:  sdvsdv\n",
      "ENter the address:  sdvs\n",
      "Enter the cost:  vsdv\n"
     ]
    },
    {
     "name": "stdout",
     "output_type": "stream",
     "text": [
      "\n",
      "Welcome to ABC Bakery!\n",
      "\n",
      "1. Make an Order.\n",
      "2. Mark Delivered.\n",
      "3. Edit Details.\n",
      "4. Delete order\n",
      "5. View all costumers\n",
      "6. Export to excel\n",
      "7. Quit.\n"
     ]
    },
    {
     "name": "stdin",
     "output_type": "stream",
     "text": [
      "Enter your choice:  5\n"
     ]
    },
    {
     "name": "stdout",
     "output_type": "stream",
     "text": [
      "\n",
      "Welcome to ABC Bakery!\n",
      "\n",
      "1. Make an Order.\n",
      "2. Mark Delivered.\n",
      "3. Edit Details.\n",
      "4. Delete order\n",
      "5. View all costumers\n",
      "6. Export to excel\n",
      "7. Quit.\n"
     ]
    }
   ],
   "source": [
    "import pandas as pd\n",
    "import numpy as np\n",
    "people = np.array([], dtype = object)\n",
    "class bakery:\n",
    "    def __init__(self,name,contact,address,cost):\n",
    "        self.name = name\n",
    "        self.contact = contact\n",
    "        self.address = address\n",
    "        self.cost = cost\n",
    "        self.status = 'Not Delivered'\n",
    "        \n",
    "    def mark_completed(self):\n",
    "        self.status = 'Delivered'   \n",
    "\n",
    "while True:\n",
    "    print('''\n",
    "Welcome to ABC Bakery!\n",
    "\n",
    "1. Make an Order.\n",
    "2. Mark Delivered.\n",
    "3. Edit Details.\n",
    "4. Delete order\n",
    "5. View all costumers\n",
    "6. Export to excel\n",
    "7. Quit.''')\n",
    "    choice = int(input('Enter your choice: '))\n",
    "    if choice==1:\n",
    "        name_ = input('Enter the name of the costumer: ')\n",
    "        contact_ = input('Enter costumer number: ')\n",
    "        address_ = input('ENter the address: ')\n",
    "        cost_ = input('Enter the cost: ')\n",
    "        new_costum = bakery(name_,contact_,address_,cost_)\n",
    "        people = np.append(people, new_costum)\n",
    "    elif choice ==2:\n",
    "        order = input('Enter costumer name: ')\n",
    "        for i in people:\n",
    "            if i.name == order:\n",
    "                i.mark_completed()\n",
    "                print('Marked Delivered.')\n",
    "    elif choice == 3:\n",
    "        name = input('Enter the name of costumer: ')\n",
    "        for i in people:\n",
    "            if i.name == name:\n",
    "                print('''\n",
    "choose option:- \n",
    "1. Edit number\n",
    "2. Edit address\n",
    "3. Edit name\n",
    "4. Edit cost\n",
    "''')\n",
    "                choose = int(input('Enter your choice: '))\n",
    "                if choose ==1:\n",
    "                    new_number = input('Enter new number: ')\n",
    "                    i.contact = new_number\n",
    "                elif choose ==2:\n",
    "                    new_address = input('Enter new address: ')\n",
    "                    i.address = new_address\n",
    "                elif choose ==3:\n",
    "                    new_name = input('Enter new name: ')\n",
    "                    i.name = new_name\n",
    "                elif choose ==4:\n",
    "                    new_cost = input('Enter the new cost: ')\n",
    "                    i.cost = new_cost\n",
    "            else:\n",
    "                continue\n",
    "    elif choice == 4:\n",
    "        for i in people:\n",
    "            name_1 = input('Enter the name of costumer: ')\n",
    "            if i.name == name_1:\n",
    "                np.delete(people,i)\n",
    "            else:\n",
    "                print('no such costumer!')\n",
    "    elif choice == 5:\n",
    "        for i in people:\n",
    "            print(f'name - {i.name}  contact - {i.contact} address - {i.address} cost - {i.cost} status - {i.status}')\n",
    "    elif choice == 6:\n",
    "        name = [i.name for i in people]\n",
    "        contact = [i.contact for i in people]\n",
    "        address = [i.address for i in people]\n",
    "        status = [i.status for i in people]\n",
    "        cost = [i.cost for i in people]\n",
    "    \n",
    "        consumers = {'name':name,'address':address,'contact':contact,'status':status,'cost':cost}\n",
    "        df = pd.DataFrame(consumers)\n",
    "        df.to_csv('bakery.csv')\n",
    "    elif choice == 7:\n",
    "        break\n",
    "    else:\n",
    "        print('NO such option.')\n",
    "\n"
   ]
  },
  {
   "cell_type": "code",
   "execution_count": 10,
   "id": "0d488a8b-3fb3-45d3-933f-292ece16ed8c",
   "metadata": {},
   "outputs": [
    {
     "name": "stdout",
     "output_type": "stream",
     "text": [
      "\n",
      "Welcome to ABC Bakery!\n",
      "\n",
      "1. Make an Order.\n",
      "2. Mark Delivered.\n",
      "3. Edit Details.\n",
      "4. Delete order\n",
      "5. View all customers\n",
      "6. Export to excel\n",
      "7. Quit.\n"
     ]
    },
    {
     "name": "stdin",
     "output_type": "stream",
     "text": [
      "Enter your choice:  1\n",
      "Enter the name of the customer:  GAUTAM\n",
      "Enter customer number:  111\n",
      "Enter the address:  111\n",
      "Enter the cost:  11\n"
     ]
    },
    {
     "name": "stdout",
     "output_type": "stream",
     "text": [
      "\n",
      "Welcome to ABC Bakery!\n",
      "\n",
      "1. Make an Order.\n",
      "2. Mark Delivered.\n",
      "3. Edit Details.\n",
      "4. Delete order\n",
      "5. View all customers\n",
      "6. Export to excel\n",
      "7. Quit.\n"
     ]
    },
    {
     "name": "stdin",
     "output_type": "stream",
     "text": [
      "Enter your choice:  5\n"
     ]
    },
    {
     "name": "stdout",
     "output_type": "stream",
     "text": [
      "name - GAUTAM  contact - 111 address - 111 cost - 11 status - Not Delivered\n",
      "\n",
      "Welcome to ABC Bakery!\n",
      "\n",
      "1. Make an Order.\n",
      "2. Mark Delivered.\n",
      "3. Edit Details.\n",
      "4. Delete order\n",
      "5. View all customers\n",
      "6. Export to excel\n",
      "7. Quit.\n"
     ]
    },
    {
     "name": "stdin",
     "output_type": "stream",
     "text": [
      "Enter your choice:  JKB\n"
     ]
    },
    {
     "ename": "ValueError",
     "evalue": "invalid literal for int() with base 10: 'JKB'",
     "output_type": "error",
     "traceback": [
      "\u001b[1;31m---------------------------------------------------------------------------\u001b[0m",
      "\u001b[1;31mValueError\u001b[0m                                Traceback (most recent call last)",
      "Cell \u001b[1;32mIn[10], line 28\u001b[0m\n\u001b[0;32m     17\u001b[0m \u001b[38;5;28;01mwhile\u001b[39;00m \u001b[38;5;28;01mTrue\u001b[39;00m:\n\u001b[0;32m     18\u001b[0m     \u001b[38;5;28mprint\u001b[39m(\u001b[38;5;124m'''\u001b[39m\n\u001b[0;32m     19\u001b[0m \u001b[38;5;124mWelcome to ABC Bakery!\u001b[39m\n\u001b[0;32m     20\u001b[0m \n\u001b[1;32m   (...)\u001b[0m\n\u001b[0;32m     26\u001b[0m \u001b[38;5;124m6. Export to excel\u001b[39m\n\u001b[0;32m     27\u001b[0m \u001b[38;5;124m7. Quit.\u001b[39m\u001b[38;5;124m'''\u001b[39m)\n\u001b[1;32m---> 28\u001b[0m     choice \u001b[38;5;241m=\u001b[39m \u001b[38;5;28mint\u001b[39m(\u001b[38;5;28minput\u001b[39m(\u001b[38;5;124m'\u001b[39m\u001b[38;5;124mEnter your choice: \u001b[39m\u001b[38;5;124m'\u001b[39m))\n\u001b[0;32m     29\u001b[0m     \u001b[38;5;28;01mif\u001b[39;00m choice\u001b[38;5;241m==\u001b[39m\u001b[38;5;241m1\u001b[39m:\n\u001b[0;32m     30\u001b[0m         name_ \u001b[38;5;241m=\u001b[39m \u001b[38;5;28minput\u001b[39m(\u001b[38;5;124m'\u001b[39m\u001b[38;5;124mEnter the name of the customer: \u001b[39m\u001b[38;5;124m'\u001b[39m)\n",
      "\u001b[1;31mValueError\u001b[0m: invalid literal for int() with base 10: 'JKB'"
     ]
    }
   ],
   "source": [
    "import pandas as pd\n",
    "import numpy as np\n",
    "\n",
    "people = np.array([], dtype=object)\n",
    "\n",
    "class bakery:\n",
    "    def __init__(self,name,contact,address,cost):\n",
    "        self.name = name\n",
    "        self.contact = contact\n",
    "        self.address = address\n",
    "        self.cost = cost\n",
    "        self.status = 'Not Delivered'\n",
    "        \n",
    "    def mark_completed(self):\n",
    "        self.status = 'Delivered'   \n",
    "\n",
    "while True:\n",
    "    print('''\n",
    "Welcome to ABC Bakery!\n",
    "\n",
    "1. Make an Order.\n",
    "2. Mark Delivered.\n",
    "3. Edit Details.\n",
    "4. Delete order\n",
    "5. View all customers\n",
    "6. Export to excel\n",
    "7. Quit.''')\n",
    "    choice = int(input('Enter your choice: '))\n",
    "    if choice==1:\n",
    "        name_ = input('Enter the name of the customer: ')\n",
    "        contact_ = input('Enter customer number: ')\n",
    "        address_ = input('Enter the address: ')\n",
    "        cost_ = input('Enter the cost: ')\n",
    "        new_customer = bakery(name_,contact_,address_,cost_)\n",
    "        people = np.append(people, new_customer)\n",
    "    elif choice ==2:\n",
    "        order = input('Enter customer name: ')\n",
    "        for i in people:\n",
    "            if i.name == order:\n",
    "                i.mark_completed()\n",
    "                print('Marked Delivered.')\n",
    "    elif choice == 3:\n",
    "        name = input('Enter the name of customer: ')\n",
    "        for i in people:\n",
    "            if i.name == name:\n",
    "                print('''\n",
    "choose option:- \n",
    "1. Edit number\n",
    "2. Edit address\n",
    "3. Edit name\n",
    "4. Edit cost\n",
    "''')\n",
    "                choose = int(input('Enter your choice: '))\n",
    "                if choose ==1:\n",
    "                    new_number = input('Enter new number: ')\n",
    "                    i.contact = new_number\n",
    "                elif choose ==2:\n",
    "                    new_address = input('Enter new address: ')\n",
    "                    i.address = new_address\n",
    "                elif choose ==3:\n",
    "                    new_name = input('Enter new name: ')\n",
    "                    i.name = new_name\n",
    "                elif choose ==4:\n",
    "                    new_cost = input('Enter the new cost: ')\n",
    "                    i.cost = new_cost\n",
    "            else:\n",
    "                continue\n",
    "    elif choice == 4:\n",
    "        name_1 = input('Enter the name of customer: ')\n",
    "        for idx, i in enumerate(people):\n",
    "            if i.name == name_1:\n",
    "                people = np.delete(people, idx)\n",
    "                print('Order deleted.')\n",
    "                break\n",
    "        else:\n",
    "            print('No such customer!')\n",
    "    elif choice == 5:\n",
    "        if len(people) == 0:\n",
    "            print(\"No customers yet!\")\n",
    "        else:\n",
    "            for i in people:\n",
    "                print(f'name - {i.name}  contact - {i.contact} address - {i.address} cost - {i.cost} status - {i.status}')\n",
    "    elif choice == 6:\n",
    "        name = [i.name for i in people]\n",
    "        contact = [i.contact for i in people]\n",
    "        address = [i.address for i in people]\n",
    "        status = [i.status for i in people]\n",
    "        cost = [i.cost for i in people]\n",
    "    \n",
    "        consumers = {'name':name,'address':address,'contact':contact,'status':status,'cost':cost}\n",
    "        df = pd.DataFrame(consumers)\n",
    "        df.to_csv('bakery.csv', index=False)\n",
    "        print(\"Exported to excel successfully!\")\n",
    "    elif choice == 7:\n",
    "        break\n",
    "    else:\n",
    "        print('NO such option.')\n"
   ]
  },
  {
   "cell_type": "code",
   "execution_count": null,
   "id": "0d11df85-a621-4fd9-bd66-f42fa6205401",
   "metadata": {},
   "outputs": [],
   "source": []
  }
 ],
 "metadata": {
  "kernelspec": {
   "display_name": "Python 3 (ipykernel)",
   "language": "python",
   "name": "python3"
  },
  "language_info": {
   "codemirror_mode": {
    "name": "ipython",
    "version": 3
   },
   "file_extension": ".py",
   "mimetype": "text/x-python",
   "name": "python",
   "nbconvert_exporter": "python",
   "pygments_lexer": "ipython3",
   "version": "3.11.5"
  }
 },
 "nbformat": 4,
 "nbformat_minor": 5
}
